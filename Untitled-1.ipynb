{
 "cells": [
  {
   "cell_type": "code",
   "execution_count": 127,
   "metadata": {},
   "outputs": [
    {
     "name": "stdout",
     "output_type": "stream",
     "text": [
      "q False\n"
     ]
    }
   ],
   "source": [
    "option = input(\"Enter your option: \")\n",
    "print(option, not option in ['Q', 'q'])\n"
   ]
  },
  {
   "cell_type": "code",
   "execution_count": null,
   "metadata": {},
   "outputs": [],
   "source": [
    "if option not in [\"Q\", \"q\", 1, 2, 3]:\n",
    "    print(\"Provide a correct option\")\n",
    "    print()\n",
    "    "
   ]
  },
  {
   "cell_type": "code",
   "execution_count": 6,
   "metadata": {},
   "outputs": [
    {
     "name": "stdout",
     "output_type": "stream",
     "text": [
      "True\n",
      "NSW\n",
      "1752\n",
      "ACT\n",
      "1120\n",
      "QLD\n",
      "923\n",
      "VIC\n",
      "1320\n",
      "SA\n",
      "520\n",
      "WA\n",
      "630\n",
      "TAS\n",
      "125\n",
      "NT\n",
      "110\n"
     ]
    }
   ],
   "source": [
    "txt = \"Rep\"\n",
    "\n",
    "x = txt.isalpha()\n",
    "print(x)\n",
    "\n",
    "file = open(\"Rep.txt\",'r')\n",
    "while True:\n",
    "    next_line = file.readline()\n",
    "\n",
    "    if not next_line:\n",
    "        break;  \n",
    "    print(next_line.strip())\n",
    "\n",
    "file.close()"
   ]
  },
  {
   "cell_type": "code",
   "execution_count": 2,
   "metadata": {},
   "outputs": [
    {
     "data": {
      "text/plain": [
       "['NSW',\n",
       " '1752',\n",
       " 'ACT',\n",
       " '1120',\n",
       " 'QLD',\n",
       " '923',\n",
       " 'VIC',\n",
       " '1320',\n",
       " 'SA',\n",
       " '520',\n",
       " 'WA',\n",
       " '630',\n",
       " 'TAS',\n",
       " '125',\n",
       " 'NT',\n",
       " '110']"
      ]
     },
     "execution_count": 2,
     "metadata": {},
     "output_type": "execute_result"
    }
   ],
   "source": [
    "with open(\"Rep.txt\",'r') as f:\n",
    "    data = [i.strip() for i in f.readlines()]\n",
    "    # while True:\n",
    "    #     next_line = file.readline()\n",
    "\n",
    "    #     if not next_line:\n",
    "    #         break;  \n",
    "    #     print(next_line.strip())\n",
    "data"
   ]
  },
  {
   "cell_type": "code",
   "execution_count": 58,
   "metadata": {},
   "outputs": [],
   "source": [
    "nums = []\n",
    "abbr = []\n",
    "for x in data:\n",
    "    if x.isalpha():\n",
    "       abbr.append(x)\n",
    "    else:\n",
    "        nums.append(x)"
   ]
  },
  {
   "cell_type": "code",
   "execution_count": 5,
   "metadata": {},
   "outputs": [
    {
     "data": {
      "text/plain": [
       "[('1752', 'NSW'),\n",
       " ('1120', 'ACT'),\n",
       " ('923', 'QLD'),\n",
       " ('1320', 'VIC'),\n",
       " ('520', 'SA'),\n",
       " ('630', 'WA'),\n",
       " ('125', 'TAS'),\n",
       " ('110', 'NT')]"
      ]
     },
     "execution_count": 5,
     "metadata": {},
     "output_type": "execute_result"
    }
   ],
   "source": [
    "list(zip(nums, abbr))"
   ]
  },
  {
   "cell_type": "markdown",
   "metadata": {},
   "source": [
    "DAY NSW ACT QLD VIC SA WA TAS NT\n",
    "--------------------------------------------\n",
    "1 1752 1120 923 1320 520 630 125 110"
   ]
  },
  {
   "cell_type": "code",
   "execution_count": 10,
   "metadata": {},
   "outputs": [
    {
     "name": "stdout",
     "output_type": "stream",
     "text": [
      "DAY NSW ACT QLD VIC SA WA TAS NT\n",
      "1 NSW ACT QLD VIC SA WA TAS NT\n"
     ]
    }
   ],
   "source": [
    "day = 1\n",
    "print(\"DAY {} {} {} {} {} {} {} {}\".format(*abbr))\n",
    "print(\"{} {} {} {} {} {} {} {} {}\".format(day, *abbr))"
   ]
  },
  {
   "cell_type": "code",
   "execution_count": 12,
   "metadata": {},
   "outputs": [
    {
     "name": "stdout",
     "output_type": "stream",
     "text": [
      "DAY NSW ACT QLD VIC SA WA TAS NT\n",
      "1 NSW ACT QLD VIC SA WA TAS NT\n"
     ]
    }
   ],
   "source": [
    "print(f\"DAY {' '.join(abbr)}\")\n",
    "print(f\"{day} {' '.join(abbr)}\")"
   ]
  },
  {
   "cell_type": "code",
   "execution_count": 16,
   "metadata": {},
   "outputs": [
    {
     "name": "stdout",
     "output_type": "stream",
     "text": [
      "DAY NSW ACT QLD VIC SA WA TAS NT\n",
      "2 1752 1120 923 1320 520 630 125 110\n",
      "DAY NSW ACT QLD VIC SA WA TAS NT\n",
      "2 1752 1120 923 1320 520 630 125 110\n",
      "DAY NSW ACT QLD VIC SA WA TAS NT\n",
      "2 1752 1120 923 1320 520 630 125 110\n",
      "DAY NSW ACT QLD VIC SA WA TAS NT\n",
      "2 1752 1120 923 1320 520 630 125 110\n"
     ]
    }
   ],
   "source": [
    "for i in range(4):\n",
    "    \n",
    "    print(f\"{day + 1} {' '.join(nums)}\")"
   ]
  },
  {
   "cell_type": "code",
   "execution_count": 92,
   "metadata": {},
   "outputs": [],
   "source": [
    "def predict(s, g, d, compl):\n",
    "    g = g * (1-(compl/100))\n",
    "    p_cases = ( s * g ** d)\n",
    "    return int(p_cases)\n"
   ]
  },
  {
   "cell_type": "code",
   "execution_count": 95,
   "metadata": {},
   "outputs": [],
   "source": [
    "growth = float(input(\"Growth Rate? \"))\n",
    "days = int(input(\"days to calculate in future? \"))\n",
    "compliance = float(input(\"compliance Rate? \"))"
   ]
  },
  {
   "cell_type": "code",
   "execution_count": 96,
   "metadata": {},
   "outputs": [
    {
     "data": {
      "text/plain": [
       "513"
      ]
     },
     "execution_count": 96,
     "metadata": {},
     "output_type": "execute_result"
    }
   ],
   "source": [
    "predict(40, g=growth, d=days, compl=compliance)"
   ]
  },
  {
   "cell_type": "code",
   "execution_count": 97,
   "metadata": {},
   "outputs": [],
   "source": [
    "def cal_sum(nums):\n",
    "    nums = list(map(int, nums))\n",
    "    return sum(nums)"
   ]
  },
  {
   "cell_type": "code",
   "execution_count": 98,
   "metadata": {},
   "outputs": [],
   "source": [
    "def mult_pred(nums):\n",
    "    nums = [str(predict(int(i), g=growth, d=days, compl=compliance)) for i in nums]\n",
    "    return nums"
   ]
  },
  {
   "cell_type": "code",
   "execution_count": 100,
   "metadata": {},
   "outputs": [
    {
     "name": "stdout",
     "output_type": "stream",
     "text": [
      "DAY  NSW  ACT  QLD  VIC  SA  WA  TAS  NT\n",
      "--------------------------------\n",
      "1  1752  1120  923  1320  520  630  125  110 6500\n",
      "2  22494  14379  11850  16947  6676  8088  1604  1412 83450\n",
      "3  288804  184614  152144  217585  85714  103843  20594  18128 1071426\n",
      "4  3708007  2370293  1953404  2793613  1100497  1333259  264410  232748 13756231\n",
      "5  47607786  30432629  25080114  35867713  14129484  17117958  3394808  2988294 176618786\n",
      "6  611245155  390730142  322008214  460512190  181411054  219780623  43586566  38367258 2267641202\n",
      "7  7847889408  5016656439  4134322916  5912601038  2329170019  2821804000  559615968  492604309 29114664097\n",
      "8  100760501186  64409778323  53081335302  75912976461  29904643944  36229662589  7185012743  6324637680 373808548228\n",
      "9  1293682679699  826969036863  681521065171  974660721771  383951245354  465159327623  92249705287  81203190989 4799396972757\n",
      "10  16609830797326  10617608160385  8750174795520  12513848973523  4929620933965  5972266496923  1184410999671  1042582762910 61620343920223\n",
      "11  213256684537192  136321431664630  112345109879982  160667617596820  63292313403442  76679032306060  15206871520923  13385912601205 791154973510254\n",
      "12  2738041949657736  1750256032279550  1442419609766802  2062841208876336  812621698426929  984496254214895  195243831337353  171864203535244 10157784788094845\n",
      "13  35154226158749456  22471860375317516  18519491706069680  26485199175086332  10433400033033948  12640129190656986  2506771601432921  2206596243138843 130417674483485682\n",
      "14  451351600721452032  288520364686341824  237775173554824544  340048362581477504  133956349504370416  162288952621676256  32184903454864596  28330896603701208 1674456603728708380\n"
     ]
    }
   ],
   "source": [
    "fake_nums = [nums.copy()]\n",
    "print(f\"DAY  {'  '.join(abbr)}\")\n",
    "print(\"--------------------------------\")\n",
    "for i in range(days):\n",
    "    total = cal_sum(fake_nums[i])\n",
    "    print(f\"{i + 1}  {'  '.join(fake_nums[i])} {total}\")\n",
    "    fake_nums.append(mult_pred(fake_nums[i]))\n",
    "\n",
    "\n",
    "    "
   ]
  },
  {
   "cell_type": "code",
   "execution_count": 111,
   "metadata": {},
   "outputs": [],
   "source": [
    "days = 5"
   ]
  },
  {
   "cell_type": "code",
   "execution_count": 114,
   "metadata": {},
   "outputs": [],
   "source": [
    "p = 1\n",
    "fake_nums = [nums.copy()]"
   ]
  },
  {
   "cell_type": "code",
   "execution_count": 124,
   "metadata": {},
   "outputs": [],
   "source": [
    "\n",
    "with open(f\"result_{p}.txt\", \"w\") as f:\n",
    "    f.write(f\"DAY  {'  '.join(abbr)}  TOTAL\")\n",
    "    f.write(\"\\n\")\n",
    "    f.write(\"--------------------------------\")\n",
    "    f.write(\"\\n\")\n",
    "    for i, vals in enumerate(fake_nums):\n",
    "        total = cal_sum(vals)\n",
    "        f.write(f\"{i + 1}  {'  '.join(vals)} {total}\")\n",
    "        f.write(\"\\n\")\n"
   ]
  },
  {
   "cell_type": "code",
   "execution_count": null,
   "metadata": {},
   "outputs": [],
   "source": []
  }
 ],
 "metadata": {
  "kernelspec": {
   "display_name": "Python 3.10.8 64-bit",
   "language": "python",
   "name": "python3"
  },
  "language_info": {
   "codemirror_mode": {
    "name": "ipython",
    "version": 3
   },
   "file_extension": ".py",
   "mimetype": "text/x-python",
   "name": "python",
   "nbconvert_exporter": "python",
   "pygments_lexer": "ipython3",
   "version": "3.10.8"
  },
  "orig_nbformat": 4,
  "vscode": {
   "interpreter": {
    "hash": "26de051ba29f2982a8de78e945f0abaf191376122a1563185a90213a26c5da77"
   }
  }
 },
 "nbformat": 4,
 "nbformat_minor": 2
}
